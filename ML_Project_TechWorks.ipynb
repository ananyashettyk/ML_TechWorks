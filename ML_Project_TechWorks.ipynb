{
 "cells": [
  {
   "cell_type": "markdown",
   "id": "bdc54ee9-fe53-4fe1-8e87-8c6b4276692a",
   "metadata": {},
   "source": [
    "##### 1. Your views about the problem statement?    \n",
    "    - The problem statement presented by TechWorks Consulting, a company specializing in IT talent recruitment, and highlights its unique approach to matching skilled IT professionals with job opportunities.  \n",
    "    - The goal is to create a machine learning model that predicts the salaries of newly hired employees based on various features such as their qualifications, experience, and other relevant factors. \n",
    "    - This approach allows for data-driven decision-making, ensuring fair and competitive compensation. By leveraging historical data, the company can streamline its hiring process and maintain consistency in salary offerings, ultimately aiding in talent retention and satisfaction.  "
   ]
  },
  {
   "cell_type": "markdown",
   "id": "08e0b744-9acb-4f6f-925d-dee727feebe7",
   "metadata": {},
   "source": [
    "#####  2. What will be your approach to solving this task?    \n",
    "    - Collecting the data and understanding the dataset.  \n",
    "    - Data Preprocessing • Handle missing values  • Convert categorical variables to numeric \n",
    "    - Exploratory Data Analysis (EDA):  Analyze the dataset to identify patterns, correlations, and outliers with isualizations. \n",
    "    - Feature selection of variables.  \n",
    "    - Choose several regression models to train and evaluate, including Linear Regression, Decision Trees, Random Forests. \n",
    "    - Split the data into training and testing sets. Train the models and evaluate their performance using metrics like Mean Squared Error (MSE) and R-squared.\n",
    "    - Fine-tune the best performance model by adjesting hyperparameters to enhance it's predictive accuracy.tance.mportance.\r\n"
   ]
  },
  {
   "cell_type": "markdown",
   "id": "92d69d38-b6a5-4226-8f29-742f664a1cdc",
   "metadata": {},
   "source": [
    "#####   3. What were the available ML model options you had to perform this task?    \n",
    "    - There are several regression models to train and evaluate, like 'Linear Regression', 'Ridge Regression', 'Lasso Regression', 'Decision Tree', 'Random Forest', 'Gradient Boosting'."
   ]
  },
  {
   "cell_type": "markdown",
   "id": "ab19e608-2bcd-452e-8ca0-147c1214aeb6",
   "metadata": {},
   "source": [
    "#####    4. Which model’s performance is best and what could be the possible reason for that? \n",
    "    Based on the metrics provided, the best model is the Random Forest model. Here's why:\n",
    "\n",
    "######      MAE (Mean Absolute Error): Random Forest has the lowest MAE of 5900.953258, which indicates that it has the smallest average difference between predicted and actual values.\n",
    "######      MSE (Mean Squared Error): Random Forest has a relatively low MSE of 5.801052e+07, which indicates that it has a good balance between bias and variance.\n",
    "######      R2 (R-Squared): Random Forest has the highest R2 value of 0.630078, which indicates that it explains about 63% of the variance in the target variable.\n",
    "    Overall, the Random Forest model seems to be the best performer among the models evaluated, with a good balance of accuracy and interpretability.\n",
    "\n",
    "    Here's a brief explanation of each model's performance:\n",
    "\n",
    "    Linear Regression, Ridge Regression, and Lasso Regression have similar performance, with relatively high MAE and MSE values. They may be overfitting or underfitting the data.\n",
    "    Decision Tree has a high MAE and MSE, indicating that it may be overfitting the data or not capturing the underlying relationships well.\n",
    "    Gradient Boosting has a relatively high MAE and MSE, but a decent R2 value. It may be overfitting the data or not capturing the underlying relationships well.\n",
    "    Random Forest, on the other hand, has a good balance of accuracy and interpretability, making it the best performer among the models evaluated."
   ]
  },
  {
   "cell_type": "markdown",
   "id": "960c0fe0-50b5-4b59-b687-3d2c412ed482",
   "metadata": {},
   "source": [
    "##### 5. What steps can you take to improve this selected model’s performance even further?    \n",
    "    - Feature Engineering: Create new features that may enhance the model's predictive power, such as interaction terms or aggregated metrics.  \n",
    "    - Hyperparameter Tuning: Use techniques like Grid Search or Random Search to find the optimal hyperparameters for the Random Forest model. \n",
    "    - Collect More Data: If possible, gather more diverse and representative data to train the model, which can help improve its generalization capabilities.\n",
    "    - Increase the Number of Trees (Estimators) : Random Forest performance ofter benefits from increasing the number of decision trees (estimators)."
   ]
  },
  {
   "cell_type": "code",
   "execution_count": null,
   "id": "ec62d604-07f6-46d1-ac8e-d2f5d78977ea",
   "metadata": {},
   "outputs": [],
   "source": []
  },
  {
   "cell_type": "markdown",
   "id": "9e561636-48b8-4ebb-beb3-c0f04b300a72",
   "metadata": {},
   "source": [
    "## Exploratory data analysis (EDA)"
   ]
  },
  {
   "cell_type": "code",
   "execution_count": 1,
   "id": "4fe73ef5-0510-4fa8-a846-9c9db03d8f3e",
   "metadata": {},
   "outputs": [],
   "source": [
    "import pandas as pd\n",
    "import numpy as np"
   ]
  },
  {
   "cell_type": "code",
   "execution_count": 2,
   "id": "de59fd72-6212-4b75-b0f1-140dcf29629f",
   "metadata": {},
   "outputs": [],
   "source": [
    "# Read the CSV file located at the specified file path into a pandas DataFrame object and store it in a variable.\n",
    "\n",
    "df = pd.read_csv('C:/Users/Ananya/Documents/Jupyter_Notebook/ML case Study.csv')\n",
    "\n",
    "college = pd.read_csv('C:/Users/Ananya/Documents/Jupyter_Notebook/Colleges.csv')\n",
    "\n",
    "cities = pd.read_csv('C:/Users/Ananya/Documents/Jupyter_Notebook/cities.csv')"
   ]
  },
  {
   "cell_type": "code",
   "execution_count": 3,
   "id": "b38e9e5b-b648-48d3-94eb-ca2f76153122",
   "metadata": {},
   "outputs": [
    {
     "data": {
      "text/html": [
       "<div>\n",
       "<style scoped>\n",
       "    .dataframe tbody tr th:only-of-type {\n",
       "        vertical-align: middle;\n",
       "    }\n",
       "\n",
       "    .dataframe tbody tr th {\n",
       "        vertical-align: top;\n",
       "    }\n",
       "\n",
       "    .dataframe thead th {\n",
       "        text-align: right;\n",
       "    }\n",
       "</style>\n",
       "<table border=\"1\" class=\"dataframe\">\n",
       "  <thead>\n",
       "    <tr style=\"text-align: right;\">\n",
       "      <th></th>\n",
       "      <th>College</th>\n",
       "      <th>City</th>\n",
       "      <th>Role</th>\n",
       "      <th>Previous CTC</th>\n",
       "      <th>Previous job change</th>\n",
       "      <th>Graduation Marks</th>\n",
       "      <th>EXP (Month)</th>\n",
       "      <th>CTC</th>\n",
       "    </tr>\n",
       "  </thead>\n",
       "  <tbody>\n",
       "    <tr>\n",
       "      <th>0</th>\n",
       "      <td>SVNIT Surat</td>\n",
       "      <td>Asansol</td>\n",
       "      <td>Manager</td>\n",
       "      <td>55523.0</td>\n",
       "      <td>3</td>\n",
       "      <td>66</td>\n",
       "      <td>19</td>\n",
       "      <td>71406.58</td>\n",
       "    </tr>\n",
       "    <tr>\n",
       "      <th>1</th>\n",
       "      <td>NIT Bhopal</td>\n",
       "      <td>Ajmer</td>\n",
       "      <td>Executive</td>\n",
       "      <td>57081.0</td>\n",
       "      <td>1</td>\n",
       "      <td>84</td>\n",
       "      <td>18</td>\n",
       "      <td>68005.87</td>\n",
       "    </tr>\n",
       "    <tr>\n",
       "      <th>2</th>\n",
       "      <td>IEM, Kolkata</td>\n",
       "      <td>Rajpur Sonarpur</td>\n",
       "      <td>Executive</td>\n",
       "      <td>60347.0</td>\n",
       "      <td>2</td>\n",
       "      <td>52</td>\n",
       "      <td>28</td>\n",
       "      <td>76764.02</td>\n",
       "    </tr>\n",
       "    <tr>\n",
       "      <th>3</th>\n",
       "      <td>KIIT, Bhubaneswar</td>\n",
       "      <td>Ajmer</td>\n",
       "      <td>Executive</td>\n",
       "      <td>49010.0</td>\n",
       "      <td>2</td>\n",
       "      <td>81</td>\n",
       "      <td>33</td>\n",
       "      <td>82092.39</td>\n",
       "    </tr>\n",
       "    <tr>\n",
       "      <th>4</th>\n",
       "      <td>DTU</td>\n",
       "      <td>Durgapur</td>\n",
       "      <td>Executive</td>\n",
       "      <td>57879.0</td>\n",
       "      <td>4</td>\n",
       "      <td>74</td>\n",
       "      <td>32</td>\n",
       "      <td>73878.10</td>\n",
       "    </tr>\n",
       "  </tbody>\n",
       "</table>\n",
       "</div>"
      ],
      "text/plain": [
       "             College             City       Role  Previous CTC  \\\n",
       "0        SVNIT Surat          Asansol    Manager       55523.0   \n",
       "1         NIT Bhopal            Ajmer  Executive       57081.0   \n",
       "2       IEM, Kolkata  Rajpur Sonarpur  Executive       60347.0   \n",
       "3  KIIT, Bhubaneswar            Ajmer  Executive       49010.0   \n",
       "4                DTU         Durgapur  Executive       57879.0   \n",
       "\n",
       "   Previous job change  Graduation Marks  EXP (Month)       CTC  \n",
       "0                    3                66           19  71406.58  \n",
       "1                    1                84           18  68005.87  \n",
       "2                    2                52           28  76764.02  \n",
       "3                    2                81           33  82092.39  \n",
       "4                    4                74           32  73878.10  "
      ]
     },
     "execution_count": 3,
     "metadata": {},
     "output_type": "execute_result"
    }
   ],
   "source": [
    "df.head()          # pandas returns the first few rows of a DataFrame(by default 1st 5 rows)"
   ]
  },
  {
   "cell_type": "code",
   "execution_count": null,
   "id": "d0a74f8e-dab3-43c9-827b-10d0eeec1e51",
   "metadata": {},
   "outputs": [],
   "source": []
  },
  {
   "cell_type": "code",
   "execution_count": 4,
   "id": "973a6c46-2e73-414b-bd90-cc28aca269e9",
   "metadata": {},
   "outputs": [
    {
     "data": {
      "text/html": [
       "<div>\n",
       "<style scoped>\n",
       "    .dataframe tbody tr th:only-of-type {\n",
       "        vertical-align: middle;\n",
       "    }\n",
       "\n",
       "    .dataframe tbody tr th {\n",
       "        vertical-align: top;\n",
       "    }\n",
       "\n",
       "    .dataframe thead th {\n",
       "        text-align: right;\n",
       "    }\n",
       "</style>\n",
       "<table border=\"1\" class=\"dataframe\">\n",
       "  <thead>\n",
       "    <tr style=\"text-align: right;\">\n",
       "      <th></th>\n",
       "      <th>Tier 1</th>\n",
       "      <th>Tier 2</th>\n",
       "      <th>Tier 3</th>\n",
       "    </tr>\n",
       "  </thead>\n",
       "  <tbody>\n",
       "    <tr>\n",
       "      <th>0</th>\n",
       "      <td>IIT Bombay</td>\n",
       "      <td>IIIT Bangalore</td>\n",
       "      <td>Ramaiah Institute of Technology, Bengaluru</td>\n",
       "    </tr>\n",
       "    <tr>\n",
       "      <th>1</th>\n",
       "      <td>IIT Delhi</td>\n",
       "      <td>IIIT Delhi</td>\n",
       "      <td>TIET/Thapar University</td>\n",
       "    </tr>\n",
       "    <tr>\n",
       "      <th>2</th>\n",
       "      <td>IIT Kharagpur</td>\n",
       "      <td>IGDTUW</td>\n",
       "      <td>Manipal Main Campus</td>\n",
       "    </tr>\n",
       "    <tr>\n",
       "      <th>3</th>\n",
       "      <td>IIT Madras</td>\n",
       "      <td>NIT Calicut</td>\n",
       "      <td>VIT Vellore</td>\n",
       "    </tr>\n",
       "    <tr>\n",
       "      <th>4</th>\n",
       "      <td>IIT Kanpur</td>\n",
       "      <td>IIITM Gwalior</td>\n",
       "      <td>SRM Main Campus</td>\n",
       "    </tr>\n",
       "  </tbody>\n",
       "</table>\n",
       "</div>"
      ],
      "text/plain": [
       "          Tier 1          Tier 2                                      Tier 3\n",
       "0     IIT Bombay  IIIT Bangalore  Ramaiah Institute of Technology, Bengaluru\n",
       "1      IIT Delhi      IIIT Delhi                      TIET/Thapar University\n",
       "2  IIT Kharagpur          IGDTUW                         Manipal Main Campus\n",
       "3     IIT Madras     NIT Calicut                                 VIT Vellore\n",
       "4     IIT Kanpur   IIITM Gwalior                             SRM Main Campus"
      ]
     },
     "execution_count": 4,
     "metadata": {},
     "output_type": "execute_result"
    }
   ],
   "source": [
    "college.head()"
   ]
  },
  {
   "cell_type": "code",
   "execution_count": 5,
   "id": "13cc48f2-727e-423d-b5c7-c6ff3da8f87a",
   "metadata": {},
   "outputs": [],
   "source": [
    "# Change the college field into numerical data type\n",
    "\n",
    "Tier1 = college[\"Tier 1\"].tolist()\n",
    "Tier2 = college[\"Tier 2\"].tolist()\n",
    "Tier3 = college[\"Tier 3\"].tolist()"
   ]
  },
  {
   "cell_type": "code",
   "execution_count": 6,
   "id": "0656cf39-37ed-45d0-8d6d-90334f377b64",
   "metadata": {},
   "outputs": [],
   "source": [
    "# Tier1, Tier2, Tier3"
   ]
  },
  {
   "cell_type": "code",
   "execution_count": 7,
   "id": "8ab294ff-cc65-4c9b-b002-b956254c7701",
   "metadata": {},
   "outputs": [],
   "source": [
    "# Assign tier values to colleges in the DataFrame based on their tier classification\n",
    "# If a college is in 'Tier1', 'Tier2' and 'Tier3' set its value to 1, 2 and 3 respectively\n",
    "\n",
    "conditions = [df[\"College\"].isin(Tier1), \n",
    "              df[\"College\"].isin(Tier2), \n",
    "              df[\"College\"].isin(Tier3)]\n",
    "choices = [1, 2, 3]\n",
    "df[\"College\"] = np.select(conditions, choices)          # np.select function replaces the values in the \"College\" column based on the conditions"
   ]
  },
  {
   "cell_type": "code",
   "execution_count": 8,
   "id": "28e67319-fd25-452b-86af-2fb96a3f57ea",
   "metadata": {},
   "outputs": [
    {
     "data": {
      "text/html": [
       "<div>\n",
       "<style scoped>\n",
       "    .dataframe tbody tr th:only-of-type {\n",
       "        vertical-align: middle;\n",
       "    }\n",
       "\n",
       "    .dataframe tbody tr th {\n",
       "        vertical-align: top;\n",
       "    }\n",
       "\n",
       "    .dataframe thead th {\n",
       "        text-align: right;\n",
       "    }\n",
       "</style>\n",
       "<table border=\"1\" class=\"dataframe\">\n",
       "  <thead>\n",
       "    <tr style=\"text-align: right;\">\n",
       "      <th></th>\n",
       "      <th>College</th>\n",
       "      <th>City</th>\n",
       "      <th>Role</th>\n",
       "      <th>Previous CTC</th>\n",
       "      <th>Previous job change</th>\n",
       "      <th>Graduation Marks</th>\n",
       "      <th>EXP (Month)</th>\n",
       "      <th>CTC</th>\n",
       "    </tr>\n",
       "  </thead>\n",
       "  <tbody>\n",
       "    <tr>\n",
       "      <th>0</th>\n",
       "      <td>2</td>\n",
       "      <td>Asansol</td>\n",
       "      <td>Manager</td>\n",
       "      <td>55523.0</td>\n",
       "      <td>3</td>\n",
       "      <td>66</td>\n",
       "      <td>19</td>\n",
       "      <td>71406.58</td>\n",
       "    </tr>\n",
       "    <tr>\n",
       "      <th>1</th>\n",
       "      <td>2</td>\n",
       "      <td>Ajmer</td>\n",
       "      <td>Executive</td>\n",
       "      <td>57081.0</td>\n",
       "      <td>1</td>\n",
       "      <td>84</td>\n",
       "      <td>18</td>\n",
       "      <td>68005.87</td>\n",
       "    </tr>\n",
       "    <tr>\n",
       "      <th>2</th>\n",
       "      <td>3</td>\n",
       "      <td>Rajpur Sonarpur</td>\n",
       "      <td>Executive</td>\n",
       "      <td>60347.0</td>\n",
       "      <td>2</td>\n",
       "      <td>52</td>\n",
       "      <td>28</td>\n",
       "      <td>76764.02</td>\n",
       "    </tr>\n",
       "    <tr>\n",
       "      <th>3</th>\n",
       "      <td>3</td>\n",
       "      <td>Ajmer</td>\n",
       "      <td>Executive</td>\n",
       "      <td>49010.0</td>\n",
       "      <td>2</td>\n",
       "      <td>81</td>\n",
       "      <td>33</td>\n",
       "      <td>82092.39</td>\n",
       "    </tr>\n",
       "    <tr>\n",
       "      <th>4</th>\n",
       "      <td>1</td>\n",
       "      <td>Durgapur</td>\n",
       "      <td>Executive</td>\n",
       "      <td>57879.0</td>\n",
       "      <td>4</td>\n",
       "      <td>74</td>\n",
       "      <td>32</td>\n",
       "      <td>73878.10</td>\n",
       "    </tr>\n",
       "  </tbody>\n",
       "</table>\n",
       "</div>"
      ],
      "text/plain": [
       "   College             City       Role  Previous CTC  Previous job change  \\\n",
       "0        2          Asansol    Manager       55523.0                    3   \n",
       "1        2            Ajmer  Executive       57081.0                    1   \n",
       "2        3  Rajpur Sonarpur  Executive       60347.0                    2   \n",
       "3        3            Ajmer  Executive       49010.0                    2   \n",
       "4        1         Durgapur  Executive       57879.0                    4   \n",
       "\n",
       "   Graduation Marks  EXP (Month)       CTC  \n",
       "0                66           19  71406.58  \n",
       "1                84           18  68005.87  \n",
       "2                52           28  76764.02  \n",
       "3                81           33  82092.39  \n",
       "4                74           32  73878.10  "
      ]
     },
     "execution_count": 8,
     "metadata": {},
     "output_type": "execute_result"
    }
   ],
   "source": [
    "df.head()"
   ]
  },
  {
   "cell_type": "code",
   "execution_count": null,
   "id": "e1eeeed0-203c-4a43-9f7b-1be475ed0d2d",
   "metadata": {},
   "outputs": [],
   "source": []
  },
  {
   "cell_type": "code",
   "execution_count": 9,
   "id": "b9eede61-c7e7-495f-ba0d-e68d7e2e1774",
   "metadata": {},
   "outputs": [],
   "source": [
    "# Changing the column names\n",
    "\n",
    "cities = cities.rename(columns={'Metrio City': 'Metro City', 'non-metro cities': 'Non-Metro City'})"
   ]
  },
  {
   "cell_type": "code",
   "execution_count": 10,
   "id": "e90222da-b16c-4442-af63-56d9910e4520",
   "metadata": {},
   "outputs": [
    {
     "data": {
      "text/html": [
       "<div>\n",
       "<style scoped>\n",
       "    .dataframe tbody tr th:only-of-type {\n",
       "        vertical-align: middle;\n",
       "    }\n",
       "\n",
       "    .dataframe tbody tr th {\n",
       "        vertical-align: top;\n",
       "    }\n",
       "\n",
       "    .dataframe thead th {\n",
       "        text-align: right;\n",
       "    }\n",
       "</style>\n",
       "<table border=\"1\" class=\"dataframe\">\n",
       "  <thead>\n",
       "    <tr style=\"text-align: right;\">\n",
       "      <th></th>\n",
       "      <th>Metro City</th>\n",
       "      <th>Non-Metro City</th>\n",
       "    </tr>\n",
       "  </thead>\n",
       "  <tbody>\n",
       "    <tr>\n",
       "      <th>0</th>\n",
       "      <td>Mumbai</td>\n",
       "      <td>Dehradun</td>\n",
       "    </tr>\n",
       "    <tr>\n",
       "      <th>1</th>\n",
       "      <td>Delhi</td>\n",
       "      <td>Durgapur</td>\n",
       "    </tr>\n",
       "    <tr>\n",
       "      <th>2</th>\n",
       "      <td>Kolkata</td>\n",
       "      <td>Asansol</td>\n",
       "    </tr>\n",
       "    <tr>\n",
       "      <th>3</th>\n",
       "      <td>Chennai</td>\n",
       "      <td>Rourkela</td>\n",
       "    </tr>\n",
       "    <tr>\n",
       "      <th>4</th>\n",
       "      <td>Bangalore</td>\n",
       "      <td>Kozhikode</td>\n",
       "    </tr>\n",
       "  </tbody>\n",
       "</table>\n",
       "</div>"
      ],
      "text/plain": [
       "  Metro City Non-Metro City\n",
       "0     Mumbai       Dehradun\n",
       "1      Delhi       Durgapur\n",
       "2    Kolkata        Asansol\n",
       "3    Chennai       Rourkela\n",
       "4  Bangalore      Kozhikode"
      ]
     },
     "execution_count": 10,
     "metadata": {},
     "output_type": "execute_result"
    }
   ],
   "source": [
    "cities.head()"
   ]
  },
  {
   "cell_type": "code",
   "execution_count": 11,
   "id": "bd4ce32e-4f3b-4662-a957-136461c62ad6",
   "metadata": {},
   "outputs": [],
   "source": [
    "# Extracting lists of Metro and Non-Metro cities from the 'cities' DataFrame and assigning 1 if Metro and 0 if not\n",
    "metro = cities['Metro City'].tolist()\n",
    "non_metro = cities['Non-Metro City'].tolist()\n",
    "\n",
    "df['City'] = np.where(df['City'].isin(metro), 1, 0)         # Assigning value as 1 if city is merto and 0 if non-metro"
   ]
  },
  {
   "cell_type": "code",
   "execution_count": 12,
   "id": "090040ed-daa4-4258-8435-e45372671e69",
   "metadata": {},
   "outputs": [
    {
     "data": {
      "text/html": [
       "<div>\n",
       "<style scoped>\n",
       "    .dataframe tbody tr th:only-of-type {\n",
       "        vertical-align: middle;\n",
       "    }\n",
       "\n",
       "    .dataframe tbody tr th {\n",
       "        vertical-align: top;\n",
       "    }\n",
       "\n",
       "    .dataframe thead th {\n",
       "        text-align: right;\n",
       "    }\n",
       "</style>\n",
       "<table border=\"1\" class=\"dataframe\">\n",
       "  <thead>\n",
       "    <tr style=\"text-align: right;\">\n",
       "      <th></th>\n",
       "      <th>College</th>\n",
       "      <th>City</th>\n",
       "      <th>Role</th>\n",
       "      <th>Previous CTC</th>\n",
       "      <th>Previous job change</th>\n",
       "      <th>Graduation Marks</th>\n",
       "      <th>EXP (Month)</th>\n",
       "      <th>CTC</th>\n",
       "    </tr>\n",
       "  </thead>\n",
       "  <tbody>\n",
       "    <tr>\n",
       "      <th>0</th>\n",
       "      <td>2</td>\n",
       "      <td>0</td>\n",
       "      <td>Manager</td>\n",
       "      <td>55523.0</td>\n",
       "      <td>3</td>\n",
       "      <td>66</td>\n",
       "      <td>19</td>\n",
       "      <td>71406.58</td>\n",
       "    </tr>\n",
       "    <tr>\n",
       "      <th>1</th>\n",
       "      <td>2</td>\n",
       "      <td>0</td>\n",
       "      <td>Executive</td>\n",
       "      <td>57081.0</td>\n",
       "      <td>1</td>\n",
       "      <td>84</td>\n",
       "      <td>18</td>\n",
       "      <td>68005.87</td>\n",
       "    </tr>\n",
       "    <tr>\n",
       "      <th>2</th>\n",
       "      <td>3</td>\n",
       "      <td>0</td>\n",
       "      <td>Executive</td>\n",
       "      <td>60347.0</td>\n",
       "      <td>2</td>\n",
       "      <td>52</td>\n",
       "      <td>28</td>\n",
       "      <td>76764.02</td>\n",
       "    </tr>\n",
       "    <tr>\n",
       "      <th>3</th>\n",
       "      <td>3</td>\n",
       "      <td>0</td>\n",
       "      <td>Executive</td>\n",
       "      <td>49010.0</td>\n",
       "      <td>2</td>\n",
       "      <td>81</td>\n",
       "      <td>33</td>\n",
       "      <td>82092.39</td>\n",
       "    </tr>\n",
       "    <tr>\n",
       "      <th>4</th>\n",
       "      <td>1</td>\n",
       "      <td>0</td>\n",
       "      <td>Executive</td>\n",
       "      <td>57879.0</td>\n",
       "      <td>4</td>\n",
       "      <td>74</td>\n",
       "      <td>32</td>\n",
       "      <td>73878.10</td>\n",
       "    </tr>\n",
       "  </tbody>\n",
       "</table>\n",
       "</div>"
      ],
      "text/plain": [
       "   College  City       Role  Previous CTC  Previous job change  \\\n",
       "0        2     0    Manager       55523.0                    3   \n",
       "1        2     0  Executive       57081.0                    1   \n",
       "2        3     0  Executive       60347.0                    2   \n",
       "3        3     0  Executive       49010.0                    2   \n",
       "4        1     0  Executive       57879.0                    4   \n",
       "\n",
       "   Graduation Marks  EXP (Month)       CTC  \n",
       "0                66           19  71406.58  \n",
       "1                84           18  68005.87  \n",
       "2                52           28  76764.02  \n",
       "3                81           33  82092.39  \n",
       "4                74           32  73878.10  "
      ]
     },
     "execution_count": 12,
     "metadata": {},
     "output_type": "execute_result"
    }
   ],
   "source": [
    "df.head()"
   ]
  },
  {
   "cell_type": "code",
   "execution_count": null,
   "id": "ebf16ed0-90bf-4c62-b595-6d410cd454b9",
   "metadata": {},
   "outputs": [],
   "source": []
  },
  {
   "cell_type": "code",
   "execution_count": 13,
   "id": "fab3d877-37ab-4c7d-a519-9ab4798dec82",
   "metadata": {},
   "outputs": [
    {
     "data": {
      "text/html": [
       "<div>\n",
       "<style scoped>\n",
       "    .dataframe tbody tr th:only-of-type {\n",
       "        vertical-align: middle;\n",
       "    }\n",
       "\n",
       "    .dataframe tbody tr th {\n",
       "        vertical-align: top;\n",
       "    }\n",
       "\n",
       "    .dataframe thead th {\n",
       "        text-align: right;\n",
       "    }\n",
       "</style>\n",
       "<table border=\"1\" class=\"dataframe\">\n",
       "  <thead>\n",
       "    <tr style=\"text-align: right;\">\n",
       "      <th></th>\n",
       "      <th>College</th>\n",
       "      <th>City</th>\n",
       "      <th>Previous CTC</th>\n",
       "      <th>Previous job change</th>\n",
       "      <th>Graduation Marks</th>\n",
       "      <th>EXP (Month)</th>\n",
       "      <th>CTC</th>\n",
       "      <th>Role_Manager</th>\n",
       "    </tr>\n",
       "  </thead>\n",
       "  <tbody>\n",
       "    <tr>\n",
       "      <th>354</th>\n",
       "      <td>1</td>\n",
       "      <td>0</td>\n",
       "      <td>65360</td>\n",
       "      <td>4</td>\n",
       "      <td>85</td>\n",
       "      <td>18</td>\n",
       "      <td>67305</td>\n",
       "      <td>0</td>\n",
       "    </tr>\n",
       "    <tr>\n",
       "      <th>615</th>\n",
       "      <td>1</td>\n",
       "      <td>0</td>\n",
       "      <td>61626</td>\n",
       "      <td>3</td>\n",
       "      <td>42</td>\n",
       "      <td>47</td>\n",
       "      <td>102099</td>\n",
       "      <td>1</td>\n",
       "    </tr>\n",
       "    <tr>\n",
       "      <th>8</th>\n",
       "      <td>3</td>\n",
       "      <td>1</td>\n",
       "      <td>53124</td>\n",
       "      <td>4</td>\n",
       "      <td>40</td>\n",
       "      <td>37</td>\n",
       "      <td>70083</td>\n",
       "      <td>0</td>\n",
       "    </tr>\n",
       "    <tr>\n",
       "      <th>345</th>\n",
       "      <td>2</td>\n",
       "      <td>1</td>\n",
       "      <td>50768</td>\n",
       "      <td>4</td>\n",
       "      <td>65</td>\n",
       "      <td>34</td>\n",
       "      <td>63243</td>\n",
       "      <td>0</td>\n",
       "    </tr>\n",
       "    <tr>\n",
       "      <th>118</th>\n",
       "      <td>3</td>\n",
       "      <td>0</td>\n",
       "      <td>51099</td>\n",
       "      <td>3</td>\n",
       "      <td>71</td>\n",
       "      <td>49</td>\n",
       "      <td>67516</td>\n",
       "      <td>0</td>\n",
       "    </tr>\n",
       "  </tbody>\n",
       "</table>\n",
       "</div>"
      ],
      "text/plain": [
       "     College  City  Previous CTC  Previous job change  Graduation Marks  \\\n",
       "354        1     0         65360                    4                85   \n",
       "615        1     0         61626                    3                42   \n",
       "8          3     1         53124                    4                40   \n",
       "345        2     1         50768                    4                65   \n",
       "118        3     0         51099                    3                71   \n",
       "\n",
       "     EXP (Month)     CTC  Role_Manager  \n",
       "354           18   67305             0  \n",
       "615           47  102099             1  \n",
       "8             37   70083             0  \n",
       "345           34   63243             0  \n",
       "118           49   67516             0  "
      ]
     },
     "execution_count": 13,
     "metadata": {},
     "output_type": "execute_result"
    }
   ],
   "source": [
    "# Converting Categorical column 'Role' into numerical by creating Dummy variables\n",
    "# pandas creates new columns for each unique value in the Role column, and assigns a 1 or 0 to each row depending on whether the row belongs to that category or not.\n",
    "\n",
    "df = pd.get_dummies(df, columns=['Role'], drop_first=True)\n",
    "df = df.astype(int)          # converts the data type of the entire DataFrame to int.\n",
    "df.sample(5)          # returns a random sample of 5 rows from the DataFrame"
   ]
  },
  {
   "cell_type": "code",
   "execution_count": 14,
   "id": "32e204b4-1434-4ca8-8846-2fb931831c0d",
   "metadata": {},
   "outputs": [
    {
     "name": "stdout",
     "output_type": "stream",
     "text": [
      "<class 'pandas.core.frame.DataFrame'>\n",
      "RangeIndex: 1589 entries, 0 to 1588\n",
      "Data columns (total 8 columns):\n",
      " #   Column               Non-Null Count  Dtype\n",
      "---  ------               --------------  -----\n",
      " 0   College              1589 non-null   int32\n",
      " 1   City                 1589 non-null   int32\n",
      " 2   Previous CTC         1589 non-null   int32\n",
      " 3   Previous job change  1589 non-null   int32\n",
      " 4   Graduation Marks     1589 non-null   int32\n",
      " 5   EXP (Month)          1589 non-null   int32\n",
      " 6   CTC                  1589 non-null   int32\n",
      " 7   Role_Manager         1589 non-null   int32\n",
      "dtypes: int32(8)\n",
      "memory usage: 49.8 KB\n"
     ]
    }
   ],
   "source": [
    "df.info()         # provides the summary of a DataFrame"
   ]
  },
  {
   "cell_type": "code",
   "execution_count": 15,
   "id": "b5de87f4-dc06-4ca0-841c-e97ad491a4f6",
   "metadata": {},
   "outputs": [
    {
     "data": {
      "text/plain": [
       "College                0\n",
       "City                   0\n",
       "Previous CTC           0\n",
       "Previous job change    0\n",
       "Graduation Marks       0\n",
       "EXP (Month)            0\n",
       "CTC                    0\n",
       "Role_Manager           0\n",
       "dtype: int64"
      ]
     },
     "execution_count": 15,
     "metadata": {},
     "output_type": "execute_result"
    }
   ],
   "source": [
    "# Checking missing values in the dataset\n",
    "\n",
    "df.isna().sum()"
   ]
  },
  {
   "cell_type": "markdown",
   "id": "0f46e87a-6545-4039-9fc9-095ae0aa7ef1",
   "metadata": {},
   "source": [
    "##### There are no missing values in our DataFrame"
   ]
  },
  {
   "cell_type": "code",
   "execution_count": 16,
   "id": "2f7db6c3-4295-49bf-b994-4b1a8dff11c4",
   "metadata": {},
   "outputs": [
    {
     "data": {
      "text/html": [
       "<div>\n",
       "<style scoped>\n",
       "    .dataframe tbody tr th:only-of-type {\n",
       "        vertical-align: middle;\n",
       "    }\n",
       "\n",
       "    .dataframe tbody tr th {\n",
       "        vertical-align: top;\n",
       "    }\n",
       "\n",
       "    .dataframe thead th {\n",
       "        text-align: right;\n",
       "    }\n",
       "</style>\n",
       "<table border=\"1\" class=\"dataframe\">\n",
       "  <thead>\n",
       "    <tr style=\"text-align: right;\">\n",
       "      <th></th>\n",
       "      <th>College</th>\n",
       "      <th>City</th>\n",
       "      <th>Previous CTC</th>\n",
       "      <th>Previous job change</th>\n",
       "      <th>Graduation Marks</th>\n",
       "      <th>EXP (Month)</th>\n",
       "      <th>CTC</th>\n",
       "      <th>Role_Manager</th>\n",
       "    </tr>\n",
       "  </thead>\n",
       "  <tbody>\n",
       "    <tr>\n",
       "      <th>count</th>\n",
       "      <td>1589.000000</td>\n",
       "      <td>1589.000000</td>\n",
       "      <td>1589.000000</td>\n",
       "      <td>1589.000000</td>\n",
       "      <td>1589.000000</td>\n",
       "      <td>1589.000000</td>\n",
       "      <td>1589.000000</td>\n",
       "      <td>1589.000000</td>\n",
       "    </tr>\n",
       "    <tr>\n",
       "      <th>mean</th>\n",
       "      <td>1.975456</td>\n",
       "      <td>0.514160</td>\n",
       "      <td>55518.453744</td>\n",
       "      <td>2.528634</td>\n",
       "      <td>59.855255</td>\n",
       "      <td>39.044682</td>\n",
       "      <td>75352.790434</td>\n",
       "      <td>0.206419</td>\n",
       "    </tr>\n",
       "    <tr>\n",
       "      <th>std</th>\n",
       "      <td>0.838330</td>\n",
       "      <td>0.499957</td>\n",
       "      <td>6655.218445</td>\n",
       "      <td>1.123918</td>\n",
       "      <td>14.935139</td>\n",
       "      <td>14.108875</td>\n",
       "      <td>12587.293679</td>\n",
       "      <td>0.404862</td>\n",
       "    </tr>\n",
       "    <tr>\n",
       "      <th>min</th>\n",
       "      <td>1.000000</td>\n",
       "      <td>0.000000</td>\n",
       "      <td>36990.000000</td>\n",
       "      <td>1.000000</td>\n",
       "      <td>35.000000</td>\n",
       "      <td>18.000000</td>\n",
       "      <td>53020.000000</td>\n",
       "      <td>0.000000</td>\n",
       "    </tr>\n",
       "    <tr>\n",
       "      <th>25%</th>\n",
       "      <td>1.000000</td>\n",
       "      <td>0.000000</td>\n",
       "      <td>50518.000000</td>\n",
       "      <td>2.000000</td>\n",
       "      <td>46.000000</td>\n",
       "      <td>26.000000</td>\n",
       "      <td>66902.000000</td>\n",
       "      <td>0.000000</td>\n",
       "    </tr>\n",
       "    <tr>\n",
       "      <th>50%</th>\n",
       "      <td>2.000000</td>\n",
       "      <td>1.000000</td>\n",
       "      <td>55291.000000</td>\n",
       "      <td>3.000000</td>\n",
       "      <td>60.000000</td>\n",
       "      <td>39.000000</td>\n",
       "      <td>73028.000000</td>\n",
       "      <td>0.000000</td>\n",
       "    </tr>\n",
       "    <tr>\n",
       "      <th>75%</th>\n",
       "      <td>3.000000</td>\n",
       "      <td>1.000000</td>\n",
       "      <td>60109.000000</td>\n",
       "      <td>4.000000</td>\n",
       "      <td>73.000000</td>\n",
       "      <td>51.000000</td>\n",
       "      <td>80588.000000</td>\n",
       "      <td>0.000000</td>\n",
       "    </tr>\n",
       "    <tr>\n",
       "      <th>max</th>\n",
       "      <td>3.000000</td>\n",
       "      <td>1.000000</td>\n",
       "      <td>77911.000000</td>\n",
       "      <td>4.000000</td>\n",
       "      <td>85.000000</td>\n",
       "      <td>64.000000</td>\n",
       "      <td>123416.000000</td>\n",
       "      <td>1.000000</td>\n",
       "    </tr>\n",
       "  </tbody>\n",
       "</table>\n",
       "</div>"
      ],
      "text/plain": [
       "           College         City  Previous CTC  Previous job change  \\\n",
       "count  1589.000000  1589.000000   1589.000000          1589.000000   \n",
       "mean      1.975456     0.514160  55518.453744             2.528634   \n",
       "std       0.838330     0.499957   6655.218445             1.123918   \n",
       "min       1.000000     0.000000  36990.000000             1.000000   \n",
       "25%       1.000000     0.000000  50518.000000             2.000000   \n",
       "50%       2.000000     1.000000  55291.000000             3.000000   \n",
       "75%       3.000000     1.000000  60109.000000             4.000000   \n",
       "max       3.000000     1.000000  77911.000000             4.000000   \n",
       "\n",
       "       Graduation Marks  EXP (Month)            CTC  Role_Manager  \n",
       "count       1589.000000  1589.000000    1589.000000   1589.000000  \n",
       "mean          59.855255    39.044682   75352.790434      0.206419  \n",
       "std           14.935139    14.108875   12587.293679      0.404862  \n",
       "min           35.000000    18.000000   53020.000000      0.000000  \n",
       "25%           46.000000    26.000000   66902.000000      0.000000  \n",
       "50%           60.000000    39.000000   73028.000000      0.000000  \n",
       "75%           73.000000    51.000000   80588.000000      0.000000  \n",
       "max           85.000000    64.000000  123416.000000      1.000000  "
      ]
     },
     "execution_count": 16,
     "metadata": {},
     "output_type": "execute_result"
    }
   ],
   "source": [
    "# Statistical information on numerical data\n",
    "\n",
    "df.describe()"
   ]
  },
  {
   "cell_type": "markdown",
   "id": "88310687-e16e-46f3-b97a-ce6da67d5f40",
   "metadata": {},
   "source": [
    "##### -> Previous CTC and CTC columns have a large range of values, with a high standard deviation, indicating a skewed distribution.\n",
    "##### -> Previous job change has a relatively low standard deviation, indicating a more uniform distribution."
   ]
  },
  {
   "cell_type": "markdown",
   "id": "206cd780-a588-4135-ac87-984cd21f90b2",
   "metadata": {},
   "source": [
    "### Outlier Detection"
   ]
  },
  {
   "cell_type": "code",
   "execution_count": null,
   "id": "efddd142-02ed-4ea2-9d1b-15a98491fe8a",
   "metadata": {},
   "outputs": [],
   "source": []
  },
  {
   "cell_type": "code",
   "execution_count": 17,
   "id": "143b93c6-ac50-4779-847c-e8ecab5bd77c",
   "metadata": {},
   "outputs": [
    {
     "data": {
      "image/png": "[encoded data removed]",
      "text/plain": [
       "<Figure size 1000x800 with 4 Axes>"
      ]
     },
     "metadata": {},
     "output_type": "display_data"
    }
   ],
   "source": [
    "import seaborn as sns\n",
    "import matplotlib.pyplot as plt\n",
    "\n",
    "# Create subplots\n",
    "fig, ax = plt.subplots(2, 2, figsize=(10, 8))          # Creates a figure with multiple subplots, here 2x2\n",
    "\n",
    "# Create box plots, one for each column of the df dataframe\n",
    "ax[0, 0].boxplot(df['Previous CTC'])\n",
    "ax[0, 0].set_title('Previous CTC')\n",
    "ax[0, 0].set_ylabel('Previous CTC')\n",
    "\n",
    "ax[0, 1].boxplot(df['Graduation Marks'])\n",
    "ax[0, 1].set_title('Graduation Marks')\n",
    "ax[0, 1].set_ylabel('Marks')\n",
    "\n",
    "ax[1, 0].boxplot(df['EXP (Month)'])\n",
    "ax[1, 0].set_title('Experience (Months)')\n",
    "ax[1, 0].set_ylabel('Months')\n",
    "\n",
    "ax[1, 1].boxplot(df['CTC'])\n",
    "ax[1, 1].set_title('CTC')\n",
    "ax[1, 1].set_ylabel('CTC')\n",
    "\n",
    "# Show the plot\n",
    "plt.show()"
   ]
  },
  {
   "cell_type": "markdown",
   "id": "30ee4d27-6320-4b18-8c69-8c1d4a020149",
   "metadata": {},
   "source": [
    "##### The median of the CTC is around 75000 and the distribution is right-skewed with many outliers.\n",
    "##### The median of the previous CTC is around 55000 and the distribution is right-skewed with some outliers."
   ]
  },
  {
   "cell_type": "markdown",
   "id": "5f185cb8-edbb-4d3a-82a5-57bfe8d9395c",
   "metadata": {},
   "source": [
    "### Handling Outliers"
   ]
  },
  {
   "cell_type": "code",
   "execution_count": null,
   "id": "473d95aa-b407-4363-a7c0-5112902a1bae",
   "metadata": {},
   "outputs": [],
   "source": []
  },
  {
   "cell_type": "code",
   "execution_count": 18,
   "id": "1c5706ca-18fa-4859-8653-e15a7a1aed1b",
   "metadata": {},
   "outputs": [
    {
     "data": {
      "image/png": "[encoded data removed]",
      "text/plain": [
       "<Figure size 600x400 with 2 Axes>"
      ]
     },
     "metadata": {},
     "output_type": "display_data"
    }
   ],
   "source": [
    "columns = ['CTC', 'Previous CTC']\n",
    "\n",
    "# Replace outliers with the lower or upper bound for Previous CTC and CTC columns\n",
    "for col in columns:\n",
    "    Q1 = df[col].quantile(0.25)\n",
    "    Q3 = df[col].quantile(0.75)\n",
    "    IQR = Q3 - Q1       # Calculates the InterQuartile Range, which is the difference between the third and first quartiles.\n",
    "\n",
    "    lower_bound = Q1 - (1.5 * IQR)\n",
    "    upper_bound = Q3 + (1.5 * IQR)\n",
    "\n",
    "    df[col] = np.where(df[col] < lower_bound, lower_bound, df[col])\n",
    "    df[col] = np.where(df[col] > upper_bound, upper_bound, df[col])\n",
    "\n",
    "# Check for outliers again\n",
    "fig, ax = plt.subplots(1, 2, figsize=(6, 4))\n",
    "\n",
    "# Create box plots\n",
    "ax[0].boxplot(df['Previous CTC'])\n",
    "ax[0].set_title('Previous CTC')\n",
    "ax[0].set_ylabel('CTC')\n",
    "\n",
    "ax[1].boxplot(df['CTC'])\n",
    "ax[1].set_title('CTC')\n",
    "ax[1].set_ylabel('CTC')\n",
    "\n",
    "# Adjust layout\n",
    "plt.tight_layout()\n",
    "\n",
    "# Show the plot\n",
    "plt.show()"
   ]
  },
  {
   "cell_type": "code",
   "execution_count": null,
   "id": "0e55d1aa-00e9-42d1-bd2d-49041ced8bc1",
   "metadata": {},
   "outputs": [],
   "source": []
  },
  {
   "cell_type": "markdown",
   "id": "71d3f231-14ea-4d40-834d-7bb623acf499",
   "metadata": {},
   "source": [
    "### Correlation matrix"
   ]
  },
  {
   "cell_type": "markdown",
   "id": "746f6109-d1a9-4335-9a82-52e6b4b6407e",
   "metadata": {},
   "source": [
    "The correlation matrix shows the correlation between different features in a dataset. A value of 1 indicates a perfect positive correlation, -1 indicates a perfect negative correlation, and 0 indicates no correlation."
   ]
  },
  {
   "cell_type": "code",
   "execution_count": 19,
   "id": "7733418a-686e-40e6-9e56-39d9f9ead714",
   "metadata": {},
   "outputs": [
    {
     "data": {
      "text/html": [
       "<div>\n",
       "<style scoped>\n",
       "    .dataframe tbody tr th:only-of-type {\n",
       "        vertical-align: middle;\n",
       "    }\n",
       "\n",
       "    .dataframe tbody tr th {\n",
       "        vertical-align: top;\n",
       "    }\n",
       "\n",
       "    .dataframe thead th {\n",
       "        text-align: right;\n",
       "    }\n",
       "</style>\n",
       "<table border=\"1\" class=\"dataframe\">\n",
       "  <thead>\n",
       "    <tr style=\"text-align: right;\">\n",
       "      <th></th>\n",
       "      <th>College</th>\n",
       "      <th>City</th>\n",
       "      <th>Previous CTC</th>\n",
       "      <th>Previous job change</th>\n",
       "      <th>Graduation Marks</th>\n",
       "      <th>EXP (Month)</th>\n",
       "      <th>CTC</th>\n",
       "      <th>Role_Manager</th>\n",
       "    </tr>\n",
       "  </thead>\n",
       "  <tbody>\n",
       "    <tr>\n",
       "      <th>College</th>\n",
       "      <td>1.000000</td>\n",
       "      <td>-0.014946</td>\n",
       "      <td>0.042154</td>\n",
       "      <td>-0.055060</td>\n",
       "      <td>0.003539</td>\n",
       "      <td>0.011752</td>\n",
       "      <td>-0.025930</td>\n",
       "      <td>-0.014749</td>\n",
       "    </tr>\n",
       "    <tr>\n",
       "      <th>City</th>\n",
       "      <td>-0.014946</td>\n",
       "      <td>1.000000</td>\n",
       "      <td>0.003851</td>\n",
       "      <td>0.051670</td>\n",
       "      <td>-0.018616</td>\n",
       "      <td>-0.023613</td>\n",
       "      <td>-0.026940</td>\n",
       "      <td>-0.048671</td>\n",
       "    </tr>\n",
       "    <tr>\n",
       "      <th>Previous CTC</th>\n",
       "      <td>0.042154</td>\n",
       "      <td>0.003851</td>\n",
       "      <td>1.000000</td>\n",
       "      <td>0.006280</td>\n",
       "      <td>-0.032854</td>\n",
       "      <td>0.118746</td>\n",
       "      <td>0.246914</td>\n",
       "      <td>0.012643</td>\n",
       "    </tr>\n",
       "    <tr>\n",
       "      <th>Previous job change</th>\n",
       "      <td>-0.055060</td>\n",
       "      <td>0.051670</td>\n",
       "      <td>0.006280</td>\n",
       "      <td>1.000000</td>\n",
       "      <td>0.019267</td>\n",
       "      <td>0.023488</td>\n",
       "      <td>0.009484</td>\n",
       "      <td>-0.017150</td>\n",
       "    </tr>\n",
       "    <tr>\n",
       "      <th>Graduation Marks</th>\n",
       "      <td>0.003539</td>\n",
       "      <td>-0.018616</td>\n",
       "      <td>-0.032854</td>\n",
       "      <td>0.019267</td>\n",
       "      <td>1.000000</td>\n",
       "      <td>-0.057061</td>\n",
       "      <td>-0.004665</td>\n",
       "      <td>0.017858</td>\n",
       "    </tr>\n",
       "    <tr>\n",
       "      <th>EXP (Month)</th>\n",
       "      <td>0.011752</td>\n",
       "      <td>-0.023613</td>\n",
       "      <td>0.118746</td>\n",
       "      <td>0.023488</td>\n",
       "      <td>-0.057061</td>\n",
       "      <td>1.000000</td>\n",
       "      <td>0.310453</td>\n",
       "      <td>-0.026751</td>\n",
       "    </tr>\n",
       "    <tr>\n",
       "      <th>CTC</th>\n",
       "      <td>-0.025930</td>\n",
       "      <td>-0.026940</td>\n",
       "      <td>0.246914</td>\n",
       "      <td>0.009484</td>\n",
       "      <td>-0.004665</td>\n",
       "      <td>0.310453</td>\n",
       "      <td>1.000000</td>\n",
       "      <td>0.611021</td>\n",
       "    </tr>\n",
       "    <tr>\n",
       "      <th>Role_Manager</th>\n",
       "      <td>-0.014749</td>\n",
       "      <td>-0.048671</td>\n",
       "      <td>0.012643</td>\n",
       "      <td>-0.017150</td>\n",
       "      <td>0.017858</td>\n",
       "      <td>-0.026751</td>\n",
       "      <td>0.611021</td>\n",
       "      <td>1.000000</td>\n",
       "    </tr>\n",
       "  </tbody>\n",
       "</table>\n",
       "</div>"
      ],
      "text/plain": [
       "                      College      City  Previous CTC  Previous job change  \\\n",
       "College              1.000000 -0.014946      0.042154            -0.055060   \n",
       "City                -0.014946  1.000000      0.003851             0.051670   \n",
       "Previous CTC         0.042154  0.003851      1.000000             0.006280   \n",
       "Previous job change -0.055060  0.051670      0.006280             1.000000   \n",
       "Graduation Marks     0.003539 -0.018616     -0.032854             0.019267   \n",
       "EXP (Month)          0.011752 -0.023613      0.118746             0.023488   \n",
       "CTC                 -0.025930 -0.026940      0.246914             0.009484   \n",
       "Role_Manager        -0.014749 -0.048671      0.012643            -0.017150   \n",
       "\n",
       "                     Graduation Marks  EXP (Month)       CTC  Role_Manager  \n",
       "College                      0.003539     0.011752 -0.025930     -0.014749  \n",
       "City                        -0.018616    -0.023613 -0.026940     -0.048671  \n",
       "Previous CTC                -0.032854     0.118746  0.246914      0.012643  \n",
       "Previous job change          0.019267     0.023488  0.009484     -0.017150  \n",
       "Graduation Marks             1.000000    -0.057061 -0.004665      0.017858  \n",
       "EXP (Month)                 -0.057061     1.000000  0.310453     -0.026751  \n",
       "CTC                         -0.004665     0.310453  1.000000      0.611021  \n",
       "Role_Manager                 0.017858    -0.026751  0.611021      1.000000  "
      ]
     },
     "execution_count": 19,
     "metadata": {},
     "output_type": "execute_result"
    }
   ],
   "source": [
    "# Calculate the correlation matrix\n",
    "corr_matrix = df.corr()\n",
    "\n",
    "corr_matrix"
   ]
  },
  {
   "cell_type": "markdown",
   "id": "cf48b5e9-d1e5-44fe-9004-182d39df0428",
   "metadata": {},
   "source": [
    "##### The correlation between 'College' and 'CTC' is -0.025930, which suggests a very weak negative correlation.\n",
    "##### The correlation between 'Role_Manager' and 'CTC' is 0.611021, indicating a strong positive correlation."
   ]
  },
  {
   "cell_type": "code",
   "execution_count": 20,
   "id": "cfced3e0-8422-49ad-9f57-d7dfff55f411",
   "metadata": {},
   "outputs": [
    {
     "data": {
      "image/png": "[encoded data removed]",
      "text/plain": [
       "<Figure size 640x480 with 2 Axes>"
      ]
     },
     "metadata": {},
     "output_type": "display_data"
    }
   ],
   "source": [
    "sns.heatmap(corr_matrix, annot=True, linewidths=0.5) \n",
    "plt.show() "
   ]
  },
  {
   "cell_type": "code",
   "execution_count": 21,
   "id": "38e54033-4a91-4ffa-a6b8-a0704ddf8c52",
   "metadata": {},
   "outputs": [
    {
     "data": {
      "text/plain": [
       "('Role_Manager', 0.6110214739898435)"
      ]
     },
     "execution_count": 21,
     "metadata": {},
     "output_type": "execute_result"
    }
   ],
   "source": [
    "# Extracting the 'CTC' column to find its correlations with other features\n",
    "quality_correlations = corr_matrix['CTC'].drop('CTC')  # Exclude self-correlation\n",
    "\n",
    "# Finding the feature with the highest correlation with 'CTC'\n",
    "most_correlated_feature = quality_correlations.idxmax()\n",
    "highest_correlation = quality_correlations.max()\n",
    "\n",
    "most_correlated_feature, highest_correlation"
   ]
  },
  {
   "cell_type": "markdown",
   "id": "11f04b81-f09c-4e8a-8641-e67f4355e9a6",
   "metadata": {},
   "source": [
    "##### A student's current salary is most strongly influenced by their role and previous work experience, while their academic performance and college have little impact on their career outcomes, hence the outcome."
   ]
  },
  {
   "cell_type": "code",
   "execution_count": null,
   "id": "06bec47c-6a2d-447a-b9c1-867ed069367c",
   "metadata": {},
   "outputs": [],
   "source": []
  },
  {
   "cell_type": "markdown",
   "id": "429b5074-571f-4e19-aec4-37a3dc0a3ca5",
   "metadata": {},
   "source": [
    "## Applying various Machine Learning models"
   ]
  },
  {
   "cell_type": "code",
   "execution_count": 22,
   "id": "fa993064-fb74-43b2-8070-4237677608f2",
   "metadata": {},
   "outputs": [],
   "source": [
    "from sklearn.model_selection import train_test_split, GridSearchCV\n",
    "from sklearn.linear_model import LinearRegression, Ridge, Lasso\n",
    "from sklearn.tree import DecisionTreeRegressor, DecisionTreeClassifier\n",
    "from sklearn.ensemble import RandomForestRegressor, GradientBoostingRegressor, BaggingClassifier, AdaBoostRegressor\n",
    "import xgboost as xgb\n",
    "from sklearn.metrics import mean_absolute_error, mean_squared_error, r2_score"
   ]
  },
  {
   "cell_type": "markdown",
   "id": "f4e5123b-2dab-4a66-a290-434a2d1ce4ae",
   "metadata": {},
   "source": [
    "Select all columns from the DataFrame df except the 'CTC' column as the feature variable, the value we want to predict(X)(InDependent).\n",
    "Extract the 'CTC' column as the target variable(y)(Dependent)"
   ]
  },
  {
   "cell_type": "markdown",
   "id": "5da4df64-277c-48ea-bf47-47981c9cb7f4",
   "metadata": {},
   "source": [
    "Split the dataset into two parts:    \n",
    "    X_train : Features used for training the model.     \n",
    "    y_train : Corresponding target values for training.     \n",
    "    X_test : Features used for evaluating the model's performance after training.     \n",
    "    y_test : Corresponding target values for testing.     \n",
    "    test_size = 0.2 : Specifies that 20% of the data will be used for testing, and the remaining 80% for training.     \n",
    "    random_state = 42 : Ensures that the split is consistent every time you run the code     "
   ]
  },
  {
   "cell_type": "code",
   "execution_count": 23,
   "id": "574d9424-37b9-44ef-86e6-de9a94e79caf",
   "metadata": {},
   "outputs": [
    {
     "name": "stdout",
     "output_type": "stream",
     "text": [
      "(1271, 7) (318, 7) (1271,) (318,)\n"
     ]
    }
   ],
   "source": [
    "# Define features and target variable\n",
    "X = df.drop('CTC', axis=1)\n",
    "y = df['CTC']\n",
    "\n",
    "# Split the data into training and testing sets\n",
    "X_train, X_test, y_train, y_test = train_test_split(X, y, test_size=0.2, random_state=42)\n",
    "print(X_train.shape,X_test.shape,y_train.shape,y_test.shape)"
   ]
  },
  {
   "cell_type": "markdown",
   "id": "11b7466f-6e4c-4387-af60-07827d80752c",
   "metadata": {},
   "source": [
    "Defining the Models :\n",
    "        Created a dictionary 'models' that stores different regression models"
   ]
  },
  {
   "cell_type": "markdown",
   "id": "1ac8ad29-2296-4f29-a4a9-6a2b6a063035",
   "metadata": {},
   "source": [
    "Training and Evaluation : \n",
    "    Iterate through the 'models' dictionary, training each model and evaluating its performance."
   ]
  },
  {
   "cell_type": "markdown",
   "id": "4f1dff7c-f96b-4a89-af10-2530470f0e44",
   "metadata": {},
   "source": [
    "    MAE: Average absolute difference between predicted and actual values.     \n",
    "    MSE: Average squared difference, penalizes larger errors more heavily.     \n",
    "    R2: A measure of how well the model fits the data (higher R2 means better fit). A value closer to 1 means a better fit.    )."
   ]
  },
  {
   "cell_type": "code",
   "execution_count": 24,
   "id": "2bccd392-a7ad-4229-b5d7-ac4d3baefe5a",
   "metadata": {},
   "outputs": [
    {
     "name": "stdout",
     "output_type": "stream",
     "text": [
      "                           MAE           MSE        R2\n",
      "Linear Regression  6793.721101  6.601306e+07  0.579041\n",
      "Ridge Regression   6801.122773  6.611894e+07  0.578366\n",
      "Lasso Regression   6794.223987  6.601842e+07  0.579007\n",
      "Decision Tree      7620.386792  1.066623e+08  0.319825\n",
      "Random Forest      5944.623491  5.919708e+07  0.622506\n",
      "Gradient Boosting  6180.139953  6.196577e+07  0.604850\n",
      "Bagging            6610.116352  9.502637e+07  0.394026\n",
      "AdaBoostRegressor  6683.015077  6.772261e+07  0.568139\n",
      "XGBRegressor       6296.404113  6.273148e+07  0.599967\n"
     ]
    }
   ],
   "source": [
    "# Define the necessary models   ada boost , xg boost , bagging\n",
    "models = {\n",
    "    'Linear Regression': LinearRegression(),\n",
    "    'Ridge Regression': Ridge(),\n",
    "    'Lasso Regression': Lasso(),\n",
    "    'Decision Tree': DecisionTreeRegressor(),\n",
    "    'Random Forest': RandomForestRegressor(),\n",
    "    'Gradient Boosting': GradientBoostingRegressor(),\n",
    "    'Bagging': BaggingClassifier(estimator=DecisionTreeClassifier(random_state=42), n_estimators=100, random_state=42),\n",
    "    'AdaBoostRegressor': AdaBoostRegressor(estimator=DecisionTreeRegressor(max_depth=5), n_estimators=50, learning_rate=1.0, random_state=42),\n",
    "    'XGBRegressor': xgb.XGBRegressor(n_estimators=100, max_depth=3, learning_rate=0.1, objective='reg:squarederror', random_state=42)\n",
    "}\n",
    "\n",
    "# Store results\n",
    "results = {}\n",
    "\n",
    "for name, model in models.items():\n",
    "    model.fit(X_train, y_train)     # Train the model using the training data and the target values\n",
    "    predictions = model.predict(X_test)     # Make predictions on the test data\n",
    "    mae = mean_absolute_error(y_test, predictions)     # Calculate the Mean Absolute Error (MAE) to measure prediction accuracy\n",
    "    mse = mean_squared_error(y_test, predictions)     # Calculate the Mean Squared Error (MSE) to assess prediction accuracy\n",
    "    r2 = r2_score(y_test, predictions)     # Calculate the R-squared (r2) score which measures the goodness of fit of the model.\n",
    "    results[name] = {'MAE': mae, 'MSE': mse, 'R2': r2}     # Store the calculated evaluation metrics for each of model\n",
    "    \n",
    "\n",
    "# Convert results to DataFrame for better visualization\n",
    "results_df = pd.DataFrame(results).T\n",
    "print(results_df)"
   ]
  },
  {
   "cell_type": "markdown",
   "id": "546dff16-d1d1-43c9-91f2-cb72150c9edd",
   "metadata": {},
   "source": [
    "##### Performance of each regression model on the test data : "
   ]
  },
  {
   "cell_type": "markdown",
   "id": "58e7b4c8-3562-444b-81ae-1e4f53f38f95",
   "metadata": {},
   "source": [
    "Random Forest and Gradient Boosting: These models performed the best, with the lowest MAE and MSE and the highest R-squared values. This indicates they are good at fitting the data and making accurate predictions.\n",
    "\n",
    "Linear Regression, Ridge Regression, Lasso Regression: These models have similar performance, slightly low than the ensemble methods. This suggests that the relationships between features and the target variable might be non-linear, and ensemble methods capture these non-linearities better.\n",
    "\n",
    "Decision Tree: This model has the highest MAE and MSE and the lowest R-squared. This indicates it might overfit the training data and generalize poorly to unseen data."
   ]
  },
  {
   "cell_type": "code",
   "execution_count": null,
   "id": "7d75c1d8-edae-44c0-a444-1d551623ef1a",
   "metadata": {},
   "outputs": [],
   "source": []
  },
  {
   "cell_type": "code",
   "execution_count": 25,
   "id": "0c3b3692-5b95-427d-9329-ce560f0a3db9",
   "metadata": {},
   "outputs": [
    {
     "name": "stdout",
     "output_type": "stream",
     "text": [
      "Best Model: RandomForestRegressor()\n"
     ]
    }
   ],
   "source": [
    "# Choose the best model based on R2 score\n",
    "best_model_name = results_df['R2'].idxmax()      # index of the maximum R-squared value\n",
    "best_model = models[best_model_name]\n",
    "\n",
    "print(f\"Best Model: {best_model}\")"
   ]
  },
  {
   "cell_type": "markdown",
   "id": "0ec813d3-3aaa-4bc2-8508-7b3a68ddca4a",
   "metadata": {},
   "source": [
    "##### Overall, the results suggest that ensemble methods like 'Random Forest' and 'Gradient Boosting' are more suitable for this dataset compared to linear models and the decision tree.\n",
    "##### 'Random Forest' performed the best out of all the models."
   ]
  },
  {
   "cell_type": "code",
   "execution_count": null,
   "id": "80133d26-1c91-4944-9673-e07b7b1fd0e8",
   "metadata": {},
   "outputs": [],
   "source": []
  },
  {
   "cell_type": "markdown",
   "id": "869a7a83-3d57-42ca-930e-9a8a7ca29ae9",
   "metadata": {},
   "source": [
    "### Hyperparameter tuning for a Random Forest Regression model using Grid Search"
   ]
  },
  {
   "cell_type": "code",
   "execution_count": 26,
   "id": "4ebcee5a-54c9-4b87-9a14-f9ee2c71dcaf",
   "metadata": {},
   "outputs": [
    {
     "name": "stdout",
     "output_type": "stream",
     "text": [
      "Final MAE: 5894.51,   Final MSE: 58336726.09,   Final R2: 0.63\n"
     ]
    }
   ],
   "source": [
    "# Hyperparameter tuning example (for Random Forest)\n",
    "param_grid = {\n",
    "    'n_estimators': [100, 200],\n",
    "    'max_depth': [None, 10, 20],\n",
    "    'min_samples_split': [2, 5]\n",
    "}\n",
    "\n",
    "# cv=5 : The data is split into 5 folds, and the model is trained and evaluated 5 times\n",
    "# Trains multiple models with all the different hyperparameter combinations and evaluates their performance using the cross-validation strategy\n",
    "grid_search = GridSearchCV(RandomForestRegressor(), param_grid, cv=5) \n",
    "grid_search.fit(X_train, y_train)\n",
    "\n",
    "# Final evaluation of the best model\n",
    "final_predictions = grid_search.best_estimator_.predict(X_test)      # holds the models best combination of hyperparameters found during the search.\n",
    "final_mae = mean_absolute_error(y_test, final_predictions)\n",
    "final_mse = mean_squared_error(y_test, final_predictions)\n",
    "final_r2 = r2_score(y_test, final_predictions)\n",
    "\n",
    "print(f\"Final MAE: {final_mae:.2f},   Final MSE: {final_mse:.2f},   Final R2: {final_r2:.2f}\")"
   ]
  },
  {
   "cell_type": "markdown",
   "id": "60730480-2064-4025-b78b-12b017c9374e",
   "metadata": {},
   "source": [
    "Cross-Validation: A technique to assess model performance by splitting the data into multiple folds and using each fold as a test set while training on the remaining folds. This helps avoid overfitting and provides a more reliable estimate of the model's generalization ability."
   ]
  },
  {
   "cell_type": "code",
   "execution_count": 27,
   "id": "3b6ae180-3126-4c34-a29a-28ae5823a20f",
   "metadata": {},
   "outputs": [
    {
     "name": "stdout",
     "output_type": "stream",
     "text": [
      "                           MAE           MSE        R2   mean_r2\n",
      "Linear Regression  6793.721101  6.601306e+07  0.579041  0.510926\n",
      "Ridge Regression   6801.122773  6.611894e+07  0.578366  0.510930\n",
      "Lasso Regression   6794.223987  6.601842e+07  0.579007  0.510934\n",
      "Decision Tree      7446.487421  1.018368e+08  0.350597  0.309457\n",
      "Random Forest      5935.622516  5.863762e+07  0.626073  0.615364\n",
      "Gradient Boosting  6184.838690  6.202784e+07  0.604454  0.574046\n",
      "Ridge_alpha        6794.464531  6.602359e+07  0.578974  0.510927\n",
      "Lasso_alpha        6793.771390  6.601360e+07  0.579037  0.510927\n"
     ]
    }
   ],
   "source": [
    "# Cross-Validation for R-Squared\n",
    "from sklearn.model_selection import cross_val_score, KFold\n",
    "\n",
    "# Define the necessary models\n",
    "models = {\n",
    "    'Linear Regression': LinearRegression(),\n",
    "    'Ridge Regression': Ridge(),\n",
    "    'Lasso Regression': Lasso(),\n",
    "    'Decision Tree': DecisionTreeRegressor(),\n",
    "    'Random Forest': RandomForestRegressor(),\n",
    "    'Gradient Boosting': GradientBoostingRegressor(), \n",
    "    \"Ridge_alpha\": Ridge(alpha=0.1), \n",
    "    \"Lasso_alpha\": Lasso(alpha=0.1)\n",
    "}\n",
    "\n",
    "# Store results\n",
    "results = {}\n",
    "\n",
    "# n_splits=6: The data will be split into 6 folds for cross-validation.\n",
    "# shuffle=True: The data will be shuffled before splitting, ensuring randomness.\n",
    "# random_state=5: Sets a seed for the random number generator for reproducibility.\n",
    "\n",
    "for name, model in models.items():\n",
    "    kf = KFold(n_splits=6, shuffle=True, random_state=5)      # Analysing Cross-Validation metrics for R2 using KFold \n",
    "    cv_scores = cross_val_score(model, X, y, cv=kf)      # performs cross-validation.\n",
    "    mean_r2 = np.mean(cv_scores)      # Store the mean of cv_scores for reporting\n",
    "    model.fit(X_train, y_train)      # Fit the model to the training data\n",
    "    predictions = model.predict(X_test)      # Make predictions on the test data\n",
    "    mae = mean_absolute_error(y_test, predictions)      # Calculate the Mean Absolute Error (MAE) to measure prediction accuracy\n",
    "    mse = mean_squared_error(y_test, predictions)      # Calculate the Mean Squared Error (MSE) to assess prediction accuracy\n",
    "    r2 = r2_score(y_test, predictions)      # Calculate the R-squared (r2) score to evaluate the model performance\n",
    "    results[name] = {'MAE': mae, 'MSE': mse, 'R2': r2, 'mean_r2': mean_r2}      # Store the results\n",
    "    \n",
    "\n",
    "# Convert results to DataFrame for better visualization\n",
    "results_df = pd.DataFrame(results).T\n",
    "print(results_df)"
   ]
  }
 ],
 "metadata": {
  "kernelspec": {
   "display_name": "Python 3 (ipykernel)",
   "language": "python",
   "name": "python3"
  },
  "language_info": {
   "codemirror_mode": {
    "name": "ipython",
    "version": 3
   },
   "file_extension": ".py",
   "mimetype": "text/x-python",
   "name": "python",
   "nbconvert_exporter": "python",
   "pygments_lexer": "ipython3",
   "version": "3.12.3"
  }
 },
 "nbformat": 4,
 "nbformat_minor": 5
}
